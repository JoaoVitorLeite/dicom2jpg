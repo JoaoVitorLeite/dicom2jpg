{
 "cells": [
  {
   "cell_type": "code",
   "execution_count": null,
   "id": "e0311090",
   "metadata": {},
   "outputs": [],
   "source": [
    "# Aim:\n",
    "\n",
    "## Todo: JPG convert\n",
    "## Todo: PNG convert\n",
    "\n",
    "# Todo:\n",
    "## Todo: select image quality\n",
    "## Todo: multiprocessing"
   ]
  },
  {
   "cell_type": "markdown",
   "id": "3146e7be",
   "metadata": {},
   "source": [
    "## Multiprocessing"
   ]
  },
  {
   "cell_type": "code",
   "execution_count": 2,
   "id": "bd5a0ded",
   "metadata": {},
   "outputs": [
    {
     "data": {
      "text/plain": [
       "4"
      ]
     },
     "execution_count": 2,
     "metadata": {},
     "output_type": "execute_result"
    }
   ],
   "source": [
    "import multiprocessing\n",
    "cpus = multiprocessing.cpu_count()\n",
    "cpus"
   ]
  },
  {
   "cell_type": "code",
   "execution_count": null,
   "id": "3d0beb90",
   "metadata": {},
   "outputs": [],
   "source": []
  }
 ],
 "metadata": {
  "kernelspec": {
   "display_name": "Python 3",
   "language": "python",
   "name": "python3"
  },
  "language_info": {
   "codemirror_mode": {
    "name": "ipython",
    "version": 3
   },
   "file_extension": ".py",
   "mimetype": "text/x-python",
   "name": "python",
   "nbconvert_exporter": "python",
   "pygments_lexer": "ipython3",
   "version": "3.8.10"
  }
 },
 "nbformat": 4,
 "nbformat_minor": 5
}
